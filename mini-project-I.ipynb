{
 "cells": [
  {
   "cell_type": "markdown",
   "metadata": {},
   "source": [
    "# Mini-Project I\n",
    "During this project, we will practice handling of complex lists and dictionaries in Python. Plus, we will learn how to work with API documentation. Don't be afraid to search for the information in the [**documentation**](https://api.tfl.gov.uk/swagger/ui/index.html?url=/swagger/docs/v1#!/AccidentStats/AccidentStats_Get).\n",
    "\n",
    "Let's go to the tasks, we have some parsing to do :)!!"
   ]
  },
  {
   "cell_type": "code",
   "execution_count": 1,
   "metadata": {},
   "outputs": [],
   "source": [
    "import json\n",
    "import requests\n",
    "import os\n",
    "from IPython.display import JSON"
   ]
  },
  {
   "cell_type": "markdown",
   "metadata": {},
   "source": [
    "## Demo"
   ]
  },
  {
   "cell_type": "code",
   "execution_count": 4,
   "metadata": {},
   "outputs": [],
   "source": [
    "# don't forget package os\n",
    "#app_id = os.environ[\"<your app id name>\"]\n",
    "#app_key = os.environ[\"<your app key name>\"]\n",
    "#url_append = f'?app_id={app_id}&app_key={app_key}' "
   ]
  },
  {
   "cell_type": "code",
   "execution_count": 5,
   "metadata": {},
   "outputs": [],
   "source": [
    "#print(url_append)"
   ]
  },
  {
   "cell_type": "code",
   "execution_count": 6,
   "metadata": {},
   "outputs": [],
   "source": [
    "# URL\n",
    "url = \"https://api.tfl.gov.uk/AirQuality\""
   ]
  },
  {
   "cell_type": "code",
   "execution_count": 5,
   "metadata": {},
   "outputs": [],
   "source": [
    "# We send the request to the API\n",
    "# NOTE: if you don't have your APP_KEY, run this without the url_append\n",
    "res = requests.get(url)#+url_append)"
   ]
  },
  {
   "cell_type": "code",
   "execution_count": 6,
   "metadata": {},
   "outputs": [
    {
     "data": {
      "text/plain": [
       "200"
      ]
     },
     "execution_count": 6,
     "metadata": {},
     "output_type": "execute_result"
    }
   ],
   "source": [
    "# We can check if the request was successful\n",
    "res.status_code"
   ]
  },
  {
   "cell_type": "code",
   "execution_count": 16,
   "metadata": {},
   "outputs": [],
   "source": [
    "# We can export the information that was returned using method .json()\n",
    "#res.json()\n",
    "result = res.json()\n",
    "#JSON(result)"
   ]
  },
  {
   "cell_type": "markdown",
   "metadata": {},
   "source": [
    "## Task\n",
    "Parse the dictionary and print the AirQuality predictions for tomorrow"
   ]
  },
  {
   "cell_type": "code",
   "execution_count": 34,
   "metadata": {},
   "outputs": [
    {
     "name": "stdout",
     "output_type": "stream",
     "text": [
      "AirQuality predictions for tomorrow:\n",
      "NO2: Low,\n",
      "O3: Low,\n",
      "pM10: Low,\n",
      "pM25: Low,\n",
      "SO2: Low\n"
     ]
    }
   ],
   "source": [
    "for predictions in result:\n",
    "    NO2 = result[\"currentForecast\"][1][\"nO2Band\"]\n",
    "    O3 = result[\"currentForecast\"][1][\"o3Band\"]\n",
    "    pM10 = result[\"currentForecast\"][1][\"pM10Band\"]\n",
    "    pM25 = result[\"currentForecast\"][1][\"pM25Band\"]\n",
    "    SO2 = result[\"currentForecast\"][1][\"sO2Band\"]\n",
    "print(f'AirQuality predictions for tomorrow:\\nNO2: {NO2},\\nO3: {O3},\\npM10: {pM10},\\npM25: {pM25},\\nSO2: {SO2}')"
   ]
  },
  {
   "cell_type": "markdown",
   "metadata": {},
   "source": [
    "## Task\n",
    "What are the different modes of transport which are operated by Transfer for London? How many of modes do they have?\n",
    "\n",
    "Print the list with different modes of transport, plus their count. Example output:\n",
    "```\n",
    "[bus, cable-car,.....]\n",
    "Number of different modes of transport is: xyz\n",
    "```\n",
    "\n",
    "We need to search the documentation for correct request."
   ]
  },
  {
   "cell_type": "code",
   "execution_count": 8,
   "metadata": {},
   "outputs": [],
   "source": [
    "url = \"https://api.tfl.gov.uk/Journey/Meta/Modes\""
   ]
  },
  {
   "cell_type": "code",
   "execution_count": 9,
   "metadata": {},
   "outputs": [],
   "source": [
    "res = requests.get(url)"
   ]
  },
  {
   "cell_type": "code",
   "execution_count": 10,
   "metadata": {},
   "outputs": [],
   "source": [
    "if res.status_code != 200:\n",
    "    print(f'Bad status code: {status_code}')"
   ]
  },
  {
   "cell_type": "code",
   "execution_count": 11,
   "metadata": {},
   "outputs": [
    {
     "name": "stdout",
     "output_type": "stream",
     "text": [
      "['black-cab-as-customer', 'black-cab-as-driver', 'bus', 'cable-car', 'coach', 'cycle', 'cycle-hire', 'dlr', 'electric-car', 'goods-vehicle-as-driver', 'interchange-keep-sitting', 'interchange-secure', 'international-rail', 'motorbike-scooter', 'national-rail', 'overground', 'plane', 'private-car', 'private-coach-as-customer', 'private-coach-as-driver', 'private-hire-as-customer']\n",
      "Number of different modes of transport is: 21\n"
     ]
    }
   ],
   "source": [
    "modes = list()\n",
    "result = res.json()\n",
    "count = 0\n",
    "for x in result[count][\"modeName\"]:\n",
    "    modes.append(result[count][\"modeName\"])\n",
    "    count+=1\n",
    "print(modes)\n",
    "print(\"Number of different modes of transport is:\", len(modes))\n"
   ]
  },
  {
   "cell_type": "code",
   "execution_count": 12,
   "metadata": {},
   "outputs": [],
   "source": [
    "#JSON(result)"
   ]
  },
  {
   "cell_type": "markdown",
   "metadata": {},
   "source": [
    "## Task\n",
    "How many BikePoints in London are operated by Transfor for London? How many docks are in **all** BikePoints? There is the information for empty and full docks for each BikePoint."
   ]
  },
  {
   "cell_type": "code",
   "execution_count": 7,
   "metadata": {},
   "outputs": [],
   "source": [
    "url = \"https://api.tfl.gov.uk/BikePoint\""
   ]
  },
  {
   "cell_type": "code",
   "execution_count": 8,
   "metadata": {},
   "outputs": [],
   "source": [
    "res = requests.get(url)\n",
    "if res.status_code != 200:\n",
    "    print(f'Bad status code: {status_code}')\n",
    "result = res.json()\n",
    "#JSON(result)"
   ]
  },
  {
   "cell_type": "code",
   "execution_count": 11,
   "metadata": {},
   "outputs": [
    {
     "name": "stdout",
     "output_type": "stream",
     "text": [
      "There are 792 BikePoints in London, and 21036 docks for all BikePoints\n"
     ]
    }
   ],
   "source": [
    "count = 0\n",
    "docks = 0\n",
    "for point in result:\n",
    "    docks = docks + int(result[count][\"additionalProperties\"][8][\"value\"])\n",
    "    count += 1\n",
    "print(f'There are {len(result)} BikePoints in London, and {docks} docks within all BikePoints')"
   ]
  },
  {
   "cell_type": "markdown",
   "metadata": {},
   "source": [
    "## Task\n",
    "How many tube and bus lines are in London? Print names of all tube lines."
   ]
  },
  {
   "cell_type": "code",
   "execution_count": 12,
   "metadata": {},
   "outputs": [],
   "source": [
    "url = \"https://api.tfl.gov.uk/Line/Route\"\n",
    "res = requests.get(url)\n",
    "if res.status_code != 200:\n",
    "    print(f'Bad status code: {status_code}')\n",
    "result = res.json()\n",
    "#JSON(result)"
   ]
  },
  {
   "cell_type": "code",
   "execution_count": 13,
   "metadata": {},
   "outputs": [],
   "source": [
    "result = res.json()"
   ]
  },
  {
   "cell_type": "code",
   "execution_count": 14,
   "metadata": {},
   "outputs": [],
   "source": [
    "count = int()\n",
    "buslines = int()\n",
    "tube = int()\n",
    "tubeName = list()\n",
    "other = int()\n",
    "for counts in result:\n",
    "    if result[count][\"modeName\"] == \"bus\":\n",
    "        buslines += 1\n",
    "        count += 1\n",
    "    elif result[count][\"modeName\"] == \"tube\":\n",
    "        tubeName.append(result[count][\"name\"])\n",
    "        tube += 1\n",
    "        count += 1\n",
    "    else:\n",
    "        other += 1\n",
    "        count += 1\n"
   ]
  },
  {
   "cell_type": "code",
   "execution_count": 15,
   "metadata": {},
   "outputs": [
    {
     "name": "stdout",
     "output_type": "stream",
     "text": [
      "['Bakerloo', 'Central', 'Circle', 'District', 'Hammersmith & City', 'Jubilee', 'Metropolitan', 'Northern', 'Piccadilly', 'Victoria', 'Waterloo & City']\n",
      "There are 11 tube lines and 679 bus lines in London\n"
     ]
    }
   ],
   "source": [
    "print(tubeName)\n",
    "print(f'There are {tube} tube lines and {buslines} bus lines in London')\n",
    "#print(f'There are {docks} docks for all BikePoints')"
   ]
  },
  {
   "cell_type": "markdown",
   "metadata": {},
   "source": [
    "## Task\n",
    "How many station has `victoria` line?"
   ]
  },
  {
   "cell_type": "code",
   "execution_count": 43,
   "metadata": {},
   "outputs": [],
   "source": [
    "url = \"https://api.tfl.gov.uk/Line/victoria/StopPoints\"\n",
    "res = requests.get(url)\n",
    "if res.status_code != 200:\n",
    "    print(f'Bad status code: {status_code}')"
   ]
  },
  {
   "cell_type": "code",
   "execution_count": 45,
   "metadata": {},
   "outputs": [
    {
     "name": "stdout",
     "output_type": "stream",
     "text": [
      "There are 16 stations on the Victoria Line\n"
     ]
    }
   ],
   "source": [
    "result = res.json()\n",
    "#JSON(result)\n",
    "print(f'There are {len(result)} stations on the Victoria Line')"
   ]
  },
  {
   "cell_type": "markdown",
   "metadata": {},
   "source": [
    "## Task\n",
    "Plan the journey from Heathrow Airport to Tower Bridge using Bus and Tube? Which way is faster? Example output:\n",
    "```\n",
    "Planned duration:\n",
    "Bus: x minutes\n",
    "Tube: y minutes\n",
    "```\n",
    "\n",
    "We need to search the documentation for correct requests and parameters we need."
   ]
  },
  {
   "cell_type": "code",
   "execution_count": 27,
   "metadata": {},
   "outputs": [],
   "source": [
    "url = \"https://api.tfl.gov.uk/Journey/JourneyResults/TW61EW/to/SE14TW\"\n",
    "res = requests.get(url)\n",
    "if res.status_code != 200:\n",
    "    print(f'Bad status code')"
   ]
  },
  {
   "cell_type": "code",
   "execution_count": 28,
   "metadata": {},
   "outputs": [
    {
     "name": "stdout",
     "output_type": "stream",
     "text": [
      "Planned duration: \n",
      "Bus: 151 minutes \n",
      "Tube: 89 minutes\n"
     ]
    }
   ],
   "source": [
    "tubeTime = requests.get(url+\"?mode=tube\").json()[\"journeys\"][0][\"duration\"]\n",
    "busTime = requests.get(url+\"?mode=bus\").json()[\"journeys\"][0][\"duration\"]\n",
    "print(f'Planned duration: \\nBus: {busTime} minutes \\nTube: {tubeTime} minutes')"
   ]
  },
  {
   "cell_type": "code",
   "execution_count": 23,
   "metadata": {},
   "outputs": [
    {
     "data": {
      "application/json": {
       "$type": "Tfl.Api.Presentation.Entities.JourneyPlanner.ItineraryResult, Tfl.Api.Presentation.Entities",
       "journeyVector": {
        "$type": "Tfl.Api.Presentation.Entities.JourneyPlanner.JourneyVector, Tfl.Api.Presentation.Entities",
        "from": "-0.49186481311:51.48026442301:WGS84[DD.dddd]",
        "to": "-0.48689215164:51.47212537413:WGS84[DD.dddd]",
        "uri": "/journey/journeyresults/51.48026442301,-0.49186481311/to/51.47212537413,-0.48689215164?mode=bus",
        "via": ""
       },
       "journeys": [
        {
         "$type": "Tfl.Api.Presentation.Entities.JourneyPlanner.Journey, Tfl.Api.Presentation.Entities",
         "arrivalDateTime": "2021-03-05T21:56:00",
         "duration": 15,
         "legs": [
          {
           "$type": "Tfl.Api.Presentation.Entities.JourneyPlanner.Leg, Tfl.Api.Presentation.Entities",
           "arrivalPoint": {
            "$type": "Tfl.Api.Presentation.Entities.StopPoint, Tfl.Api.Presentation.Entities",
            "additionalProperties": [],
            "commonName": "Moor Bridge",
            "icsCode": "1010009",
            "lat": 51.47912096527,
            "lon": -0.49946288569999997,
            "naptanId": "490G00010009",
            "placeType": "StopPoint",
            "platformName": "D",
            "stopLetter": "D"
           },
           "arrivalTime": "2021-03-05T21:51:00",
           "departurePoint": {
            "$type": "Tfl.Api.Presentation.Entities.StopPoint, Tfl.Api.Presentation.Entities",
            "additionalProperties": [],
            "commonName": "9999 Heathrow Close, West Drayton",
            "icsCode": "99999997",
            "lat": 51.48026442301,
            "lon": -0.49186481310999997,
            "placeType": "StopPoint",
            "platformName": ""
           },
           "departureTime": "2021-03-05T21:41:00",
           "disruptions": [],
           "distance": 660,
           "duration": 10,
           "hasFixedLocations": true,
           "instruction": {
            "$type": "Tfl.Api.Presentation.Entities.Instruction, Tfl.Api.Presentation.Entities",
            "detailed": "Walk to Moor Bridge",
            "steps": [
             {
              "$type": "Tfl.Api.Presentation.Entities.InstructionStep, Tfl.Api.Presentation.Entities",
              "cumulativeDistance": 45,
              "cumulativeTravelTime": 41,
              "description": "Heathrow Close for 45 metres",
              "descriptionHeading": "Continue along ",
              "distance": 45,
              "latitude": 51.480264237899995,
              "longitude": -0.49185041816,
              "pathAttribute": {
               "$type": "Tfl.Api.Presentation.Entities.PathAttribute, Tfl.Api.Presentation.Entities"
              },
              "skyDirection": 483,
              "skyDirectionDescription": "North",
              "streetName": "Heathrow Close",
              "trackType": "None",
              "turnDirection": "STRAIGHT"
             },
             {
              "$type": "Tfl.Api.Presentation.Entities.InstructionStep, Tfl.Api.Presentation.Entities",
              "cumulativeDistance": 289,
              "cumulativeTravelTime": 261,
              "description": "on to Bath Road, continue for 244 metres",
              "descriptionHeading": "Turn right",
              "distance": 244,
              "latitude": 51.48003249275,
              "longitude": -0.49131082475000004,
              "pathAttribute": {
               "$type": "Tfl.Api.Presentation.Entities.PathAttribute, Tfl.Api.Presentation.Entities"
              },
              "skyDirection": 226,
              "skyDirectionDescription": "North",
              "streetName": "Bath Road",
              "trackType": "None",
              "turnDirection": "RIGHT"
             },
             {
              "$type": "Tfl.Api.Presentation.Entities.InstructionStep, Tfl.Api.Presentation.Entities",
              "cumulativeDistance": 338,
              "cumulativeTravelTime": 305,
              "description": "on to Longford Roundabout, continue for 49 metres",
              "descriptionHeading": "Take a slight left",
              "distance": 49,
              "latitude": 51.478973650140006,
              "longitude": -0.49428349109999997,
              "pathAttribute": {
               "$type": "Tfl.Api.Presentation.Entities.PathAttribute, Tfl.Api.Presentation.Entities"
              },
              "skyDirection": 214,
              "skyDirectionDescription": "North",
              "streetName": "Longford Roundabout",
              "trackType": "None",
              "turnDirection": "SLIGHT_LEFT"
             },
             {
              "$type": "Tfl.Api.Presentation.Entities.InstructionStep, Tfl.Api.Presentation.Entities",
              "cumulativeDistance": 660,
              "cumulativeTravelTime": 595,
              "description": "on to Bath Road, continue for 322 metres",
              "descriptionHeading": "Take a slight left",
              "distance": 322,
              "latitude": 51.47892766526,
              "longitude": -0.49490423216999996,
              "pathAttribute": {
               "$type": "Tfl.Api.Presentation.Entities.PathAttribute, Tfl.Api.Presentation.Entities"
              },
              "skyDirection": 266,
              "skyDirectionDescription": "North",
              "streetName": "Bath Road",
              "trackType": "None",
              "turnDirection": "SLIGHT_LEFT"
             }
            ],
            "summary": "Walk to Moor Bridge"
           },
           "isDisrupted": false,
           "mode": {
            "$type": "Tfl.Api.Presentation.Entities.Identifier, Tfl.Api.Presentation.Entities",
            "id": "walking",
            "name": "walking",
            "routeType": "Unknown",
            "status": "Unknown",
            "type": "Mode"
           },
           "obstacles": [],
           "path": {
            "$type": "Tfl.Api.Presentation.Entities.JourneyPlanner.Path, Tfl.Api.Presentation.Entities",
            "elevation": [],
            "lineString": "[[51.48026442301, -0.49186481311],[51.4802642379, -0.49185041816],[51.48003249275, -0.49131082475],[51.47925817459, -0.49263243875],[51.47910034231, -0.49364568936],[51.47897365014, -0.4942834911],[51.4789470546, -0.49431316812],[51.4788685615, -0.49450296062],[51.47890931899, -0.49487603481],[51.47892766526, -0.49490423217],[51.47890260827, -0.49575469324],[51.47887132447, -0.49682136707],[51.47884058406, -0.49793122326],[51.47906740316, -0.49949344469]]",
            "stopPoints": []
           },
           "plannedWorks": [],
           "routeOptions": [
            {
             "$type": "Tfl.Api.Presentation.Entities.JourneyPlanner.RouteOption, Tfl.Api.Presentation.Entities",
             "directions": [
              ""
             ],
             "name": ""
            }
           ]
          },
          {
           "$type": "Tfl.Api.Presentation.Entities.JourneyPlanner.Leg, Tfl.Api.Presentation.Entities",
           "arrivalPoint": {
            "$type": "Tfl.Api.Presentation.Entities.StopPoint, Tfl.Api.Presentation.Entities",
            "additionalProperties": [],
            "commonName": "Heathrow Terminal 5",
            "icsCode": "1016430",
            "lat": 51.471881801239995,
            "lon": -0.48962150982999997,
            "naptanId": "910GHTRBUS5",
            "placeType": "StopPoint",
            "platformName": "8"
           },
           "arrivalTime": "2021-03-05T21:55:00",
           "departurePoint": {
            "$type": "Tfl.Api.Presentation.Entities.StopPoint, Tfl.Api.Presentation.Entities",
            "additionalProperties": [],
            "commonName": "Moor Bridge",
            "icsCode": "1010009",
            "lat": 51.47912096527,
            "lon": -0.49946288569999997,
            "naptanId": "490G00010009",
            "placeType": "StopPoint",
            "platformName": "D",
            "stopLetter": "D"
           },
           "departureTime": "2021-03-05T21:51:00",
           "disruptions": [
            {
             "$type": "Tfl.Api.Presentation.Entities.Disruption, Tfl.Api.Presentation.Entities",
             "additionalInfo": "Find out more information from the Courtney Buses <a href=\"https://www.courtneybuses.com/covid-19-update\">website</a>.",
             "category": "RealTime",
             "categoryDescription": "RealTime",
             "created": "2021-01-13T12:06:00",
             "description": "COURTNEY BUSES: A Saturday service is in operation on all routes.",
             "lastUpdate": "2021-01-13T12:09:00",
             "summary": "",
             "type": "lineInfo"
            }
           ],
           "duration": 4,
           "hasFixedLocations": true,
           "instruction": {
            "$type": "Tfl.Api.Presentation.Entities.Instruction, Tfl.Api.Presentation.Entities",
            "detailed": "459 bus towards Heathrow Airport Terminal 5",
            "steps": [],
            "summary": "459 bus to Heathrow Terminal 5"
           },
           "isDisrupted": true,
           "mode": {
            "$type": "Tfl.Api.Presentation.Entities.Identifier, Tfl.Api.Presentation.Entities",
            "id": "bus",
            "name": "bus",
            "routeType": "Unknown",
            "status": "Unknown",
            "type": "Mode"
           },
           "obstacles": [],
           "path": {
            "$type": "Tfl.Api.Presentation.Entities.JourneyPlanner.Path, Tfl.Api.Presentation.Entities",
            "elevation": [],
            "lineString": "[[51.47906791907, -0.49948281791],[51.47884058406, -0.49793122326],[51.47887132447, -0.49682136707],[51.47890260827, -0.49575469324],[51.47912688775, -0.4950128802],[51.47923400953, -0.49495175162],[51.47933688172, -0.4945595453],[51.47931724182, -0.49443058518],[51.47921615182, -0.49426110506],[51.47917982863, -0.49423349975],[51.47897365014, -0.4942834911],[51.4789470546, -0.49431316812],[51.47878267605, -0.49411697265],[51.47847281917, -0.49379596572],[51.47811094951, -0.49432629839],[51.47747683901, -0.4946639809],[51.4763766238, -0.49511779211],[51.47558693771, -0.49524457502],[51.47494672973, -0.49510724677],[51.47504172291, -0.49480173353],[51.47549156073, -0.4934189714],[51.475532989, -0.49314401502],[51.47542135118, -0.49215412637],[51.47499825959, -0.49141930768],[51.4744590555, -0.49074593132],[51.47374721512, -0.4899342802],[51.4734935017, -0.48978426905],[51.47306057662, -0.48968337409],[51.47188200623, -0.48969214306]]",
            "stopPoints": [
             {
              "$type": "Tfl.Api.Presentation.Entities.Identifier, Tfl.Api.Presentation.Entities",
              "id": "910GHTRBUS5",
              "name": "Heathrow Terminal 5",
              "routeType": "Unknown",
              "status": "Unknown",
              "type": "StopPoint",
              "uri": "/StopPoint/910GHTRBUS5"
             }
            ]
           },
           "plannedWorks": [],
           "routeOptions": [
            {
             "$type": "Tfl.Api.Presentation.Entities.JourneyPlanner.RouteOption, Tfl.Api.Presentation.Entities",
             "directions": [
              "Heathrow Airport Terminal 5"
             ],
             "name": "459"
            }
           ]
          },
          {
           "$type": "Tfl.Api.Presentation.Entities.JourneyPlanner.Leg, Tfl.Api.Presentation.Entities",
           "arrivalPoint": {
            "$type": "Tfl.Api.Presentation.Entities.Place, Tfl.Api.Presentation.Entities",
            "commonName": "1 Washington Road, London Heathrow Airport",
            "lat": 51.472134402740004,
            "lon": -0.48968516074,
            "placeType": "StopPoint"
           },
           "arrivalTime": "2021-03-05T21:56:00",
           "departurePoint": {
            "$type": "Tfl.Api.Presentation.Entities.StopPoint, Tfl.Api.Presentation.Entities",
            "additionalProperties": [],
            "commonName": "Heathrow Terminal 5",
            "icsCode": "1016430",
            "lat": 51.471881801239995,
            "lon": -0.48962150982999997,
            "naptanId": "910GHTRBUS5",
            "placeType": "StopPoint",
            "platformName": "8"
           },
           "departureTime": "2021-03-05T21:55:00",
           "disruptions": [],
           "distance": 28,
           "duration": 1,
           "hasFixedLocations": false,
           "instruction": {
            "$type": "Tfl.Api.Presentation.Entities.Instruction, Tfl.Api.Presentation.Entities",
            "detailed": "Walk to 1 Washington Road, London Heathrow Airport",
            "steps": [
             {
              "$type": "Tfl.Api.Presentation.Entities.InstructionStep, Tfl.Api.Presentation.Entities",
              "cumulativeDistance": 28,
              "cumulativeTravelTime": 24,
              "description": "Washington Road for 28 metres",
              "descriptionHeading": "Continue along ",
              "distance": 28,
              "latitude": 51.47188272807,
              "longitude": -0.48969347129,
              "pathAttribute": {
               "$type": "Tfl.Api.Presentation.Entities.PathAttribute, Tfl.Api.Presentation.Entities"
              },
              "skyDirection": 359,
              "skyDirectionDescription": "North",
              "streetName": "Washington Road",
              "trackType": "None",
              "turnDirection": "STRAIGHT"
             }
            ],
            "summary": "Walk to 1 Washington Road, London Heathrow Airport"
           },
           "isDisrupted": false,
           "mode": {
            "$type": "Tfl.Api.Presentation.Entities.Identifier, Tfl.Api.Presentation.Entities",
            "id": "walking",
            "name": "walking",
            "routeType": "Unknown",
            "status": "Unknown",
            "type": "Mode"
           },
           "obstacles": [],
           "path": {
            "$type": "Tfl.Api.Presentation.Entities.JourneyPlanner.Path, Tfl.Api.Presentation.Entities",
            "elevation": [],
            "lineString": "[[51.47188272807, -0.48969347129],[51.47213440274, -0.48968516074]]",
            "stopPoints": []
           },
           "plannedWorks": [],
           "routeOptions": [
            {
             "$type": "Tfl.Api.Presentation.Entities.JourneyPlanner.RouteOption, Tfl.Api.Presentation.Entities",
             "directions": [
              ""
             ],
             "name": ""
            }
           ]
          }
         ],
         "startDateTime": "2021-03-05T21:41:00"
        },
        {
         "$type": "Tfl.Api.Presentation.Entities.JourneyPlanner.Journey, Tfl.Api.Presentation.Entities",
         "arrivalDateTime": "2021-03-05T21:21:00",
         "duration": 20,
         "legs": [
          {
           "$type": "Tfl.Api.Presentation.Entities.JourneyPlanner.Leg, Tfl.Api.Presentation.Entities",
           "arrivalPoint": {
            "$type": "Tfl.Api.Presentation.Entities.Place, Tfl.Api.Presentation.Entities",
            "commonName": "1 Washington Road",
            "lat": 51.472134402740004,
            "lon": -0.48968516074,
            "placeType": "StopPoint"
           },
           "arrivalTime": "2021-03-05T21:21:00",
           "departurePoint": {
            "$type": "Tfl.Api.Presentation.Entities.StopPoint, Tfl.Api.Presentation.Entities",
            "additionalProperties": [],
            "commonName": "9999 Heathrow Close",
            "icsCode": "99999997",
            "lat": 51.48026442301,
            "lon": -0.49186481310999997,
            "placeType": "StopPoint",
            "platformName": ""
           },
           "departureTime": "2021-03-05T21:01:00",
           "disruptions": [],
           "distance": 1380,
           "duration": 20,
           "hasFixedLocations": false,
           "instruction": {
            "$type": "Tfl.Api.Presentation.Entities.Instruction, Tfl.Api.Presentation.Entities",
            "detailed": "Walk to 1 Washington Road",
            "steps": [
             {
              "$type": "Tfl.Api.Presentation.Entities.InstructionStep, Tfl.Api.Presentation.Entities",
              "cumulativeDistance": 45,
              "cumulativeTravelTime": 41,
              "description": "Heathrow Close for 45 metres",
              "descriptionHeading": "Continue along ",
              "distance": 45,
              "latitude": 51.480264237899995,
              "longitude": -0.49185041816,
              "pathAttribute": {
               "$type": "Tfl.Api.Presentation.Entities.PathAttribute, Tfl.Api.Presentation.Entities"
              },
              "skyDirection": 483,
              "skyDirectionDescription": "North",
              "streetName": "Heathrow Close",
              "trackType": "None",
              "turnDirection": "STRAIGHT"
             },
             {
              "$type": "Tfl.Api.Presentation.Entities.InstructionStep, Tfl.Api.Presentation.Entities",
              "cumulativeDistance": 289,
              "cumulativeTravelTime": 261,
              "description": "on to Bath Road, continue for 244 metres",
              "descriptionHeading": "Turn right",
              "distance": 244,
              "latitude": 51.48003249275,
              "longitude": -0.49131082475000004,
              "pathAttribute": {
               "$type": "Tfl.Api.Presentation.Entities.PathAttribute, Tfl.Api.Presentation.Entities"
              },
              "skyDirection": 226,
              "skyDirectionDescription": "North",
              "streetName": "Bath Road",
              "trackType": "None",
              "turnDirection": "RIGHT"
             },
             {
              "$type": "Tfl.Api.Presentation.Entities.InstructionStep, Tfl.Api.Presentation.Entities",
              "cumulativeDistance": 293,
              "cumulativeTravelTime": 264,
              "description": "on to Longford Roundabout, continue for 4 metres",
              "descriptionHeading": "Take a slight left",
              "distance": 4,
              "latitude": 51.478973650140006,
              "longitude": -0.49428349109999997,
              "pathAttribute": {
               "$type": "Tfl.Api.Presentation.Entities.PathAttribute, Tfl.Api.Presentation.Entities"
              },
              "skyDirection": 214,
              "skyDirectionDescription": "North",
              "streetName": "Longford Roundabout",
              "trackType": "None",
              "turnDirection": "SLIGHT_LEFT"
             },
             {
              "$type": "Tfl.Api.Presentation.Entities.InstructionStep, Tfl.Api.Presentation.Entities",
              "cumulativeDistance": 377,
              "cumulativeTravelTime": 339,
              "description": "for 84 metres",
              "descriptionHeading": "Turn left",
              "distance": 84,
              "latitude": 51.4789470546,
              "longitude": -0.49431316812,
              "pathAttribute": {
               "$type": "Tfl.Api.Presentation.Entities.PathAttribute, Tfl.Api.Presentation.Entities"
              },
              "skyDirection": 502,
              "skyDirectionDescription": "North",
              "streetName": "",
              "trackType": "None",
              "turnDirection": "LEFT"
             },
             {
              "$type": "Tfl.Api.Presentation.Entities.InstructionStep, Tfl.Api.Presentation.Entities",
              "cumulativeDistance": 535,
              "cumulativeTravelTime": 482,
              "description": "on to Western Perimeter Road, continue for 158 metres",
              "descriptionHeading": "Turn right",
              "distance": 158,
              "latitude": 51.47831816774,
              "longitude": -0.49365705539,
              "pathAttribute": {
               "$type": "Tfl.Api.Presentation.Entities.PathAttribute, Tfl.Api.Presentation.Entities"
              },
              "skyDirection": 219,
              "skyDirectionDescription": "North",
              "streetName": "Western Perimeter Road",
              "trackType": "None",
              "turnDirection": "RIGHT"
             },
             {
              "$type": "Tfl.Api.Presentation.Entities.InstructionStep, Tfl.Api.Presentation.Entities",
              "cumulativeDistance": 829,
              "cumulativeTravelTime": 748,
              "description": "on to Wallis Road, continue for 294 metres",
              "descriptionHeading": "Continue along ",
              "distance": 294,
              "latitude": 51.47707199178,
              "longitude": -0.49464850767999996,
              "pathAttribute": {
               "$type": "Tfl.Api.Presentation.Entities.PathAttribute, Tfl.Api.Presentation.Entities"
              },
              "skyDirection": 181,
              "skyDirectionDescription": "North",
              "streetName": "Wallis Road",
              "trackType": "None",
              "turnDirection": "STRAIGHT"
             },
             {
              "$type": "Tfl.Api.Presentation.Entities.InstructionStep, Tfl.Api.Presentation.Entities",
              "cumulativeDistance": 887,
              "cumulativeTravelTime": 799,
              "description": "for 58 metres",
              "descriptionHeading": "Continue along ",
              "distance": 58,
              "latitude": 51.475603339610004,
              "longitude": -0.49232092093999996,
              "pathAttribute": {
               "$type": "Tfl.Api.Presentation.Entities.PathAttribute, Tfl.Api.Presentation.Entities"
              },
              "skyDirection": 261,
              "skyDirectionDescription": "North",
              "streetName": "",
              "trackType": "None",
              "turnDirection": "U_TURN"
             },
             {
              "$type": "Tfl.Api.Presentation.Entities.InstructionStep, Tfl.Api.Presentation.Entities",
              "cumulativeDistance": 1229,
              "cumulativeTravelTime": 1106,
              "description": "on to Wayfarer Road, continue for 342 metres",
              "descriptionHeading": "Continue along ",
              "distance": 342,
              "latitude": 51.475532989,
              "longitude": -0.49314401502,
              "pathAttribute": {
               "$type": "Tfl.Api.Presentation.Entities.PathAttribute, Tfl.Api.Presentation.Entities"
              },
              "skyDirection": 459,
              "skyDirectionDescription": "North",
              "streetName": "Wayfarer Road",
              "trackType": "None",
              "turnDirection": "U_TURN"
             },
             {
              "$type": "Tfl.Api.Presentation.Entities.InstructionStep, Tfl.Api.Presentation.Entities",
              "cumulativeDistance": 1380,
              "cumulativeTravelTime": 1241,
              "description": "on to Washington Road, continue for 151 metres",
              "descriptionHeading": "Continue along ",
              "distance": 151,
              "latitude": 51.4734935017,
              "longitude": -0.48978426905,
              "pathAttribute": {
               "$type": "Tfl.Api.Presentation.Entities.PathAttribute, Tfl.Api.Presentation.Entities"
              },
              "skyDirection": 531,
              "skyDirectionDescription": "North",
              "streetName": "Washington Road",
              "trackType": "None",
              "turnDirection": "STRAIGHT"
             }
            ],
            "summary": "Walk to 1 Washington Road"
           },
           "isDisrupted": false,
           "mode": {
            "$type": "Tfl.Api.Presentation.Entities.Identifier, Tfl.Api.Presentation.Entities",
            "id": "walking",
            "name": "walking",
            "routeType": "Unknown",
            "status": "Unknown",
            "type": "Mode"
           },
           "obstacles": [],
           "path": {
            "$type": "Tfl.Api.Presentation.Entities.JourneyPlanner.Path, Tfl.Api.Presentation.Entities",
            "elevation": [],
            "lineString": "[[51.48026442301, -0.49186481311],[51.48026481129, -0.49185874969],[51.48003249275, -0.49131082475],[51.47925817459, -0.49263243875],[51.47910034231, -0.49364568936],[51.47897365014, -0.4942834911],[51.4789470546, -0.49431316812],[51.47878267605, -0.49411697265],[51.47847281917, -0.49379596572],[51.47831816774, -0.49365705539],[51.47786752372, -0.49427671239],[51.47707199178, -0.49464850768],[51.4762723942, -0.49470362819],[51.47600107946, -0.49458296148],[51.47572699261, -0.49424639319],[51.47560108558, -0.49354495945],[51.47560333961, -0.49232092094],[51.475532989, -0.49314401502],[51.47542135118, -0.49215412637],[51.47499825959, -0.49141930768],[51.4744590555, -0.49074593132],[51.47374721512, -0.4899342802],[51.4734935017, -0.48978426905],[51.47306057662, -0.48968337409],[51.47213441755, -0.48969026512],[51.47213440274, -0.48968516074]]",
            "stopPoints": []
           },
           "plannedWorks": [],
           "routeOptions": [
            {
             "$type": "Tfl.Api.Presentation.Entities.JourneyPlanner.RouteOption, Tfl.Api.Presentation.Entities",
             "directions": [
              ""
             ],
             "name": ""
            }
           ]
          }
         ],
         "startDateTime": "2021-03-05T21:01:00"
        }
       ],
       "lines": [],
       "recommendedMaxAgeMinutes": 5,
       "searchCriteria": {
        "$type": "Tfl.Api.Presentation.Entities.JourneyPlanner.SearchCriteria, Tfl.Api.Presentation.Entities",
        "dateTime": "2021-03-05T21:01:00",
        "dateTimeType": "Departing",
        "timeAdjustments": {
         "$type": "Tfl.Api.Presentation.Entities.JourneyPlanner.TimeAdjustments, Tfl.Api.Presentation.Entities",
         "earlier": {
          "$type": "Tfl.Api.Presentation.Entities.JourneyPlanner.TimeAdjustment, Tfl.Api.Presentation.Entities",
          "date": "20210305",
          "time": "2101",
          "timeIs": "departing",
          "uri": "/journey/journeyresults/51.48026442301,-0.49186481311/to/51.47212537413,-0.48689215164?mode=bus&time=2101&date=20210305&timeIs=departing"
         },
         "earliest": {
          "$type": "Tfl.Api.Presentation.Entities.JourneyPlanner.TimeAdjustment, Tfl.Api.Presentation.Entities",
          "date": "20210305",
          "time": "0300",
          "timeIs": "departing",
          "uri": "/journey/journeyresults/51.48026442301,-0.49186481311/to/51.47212537413,-0.48689215164?mode=bus&time=0300&date=20210305&timeIs=departing"
         },
         "later": {
          "$type": "Tfl.Api.Presentation.Entities.JourneyPlanner.TimeAdjustment, Tfl.Api.Presentation.Entities",
          "date": "20210305",
          "time": "2141",
          "timeIs": "departing",
          "uri": "/journey/journeyresults/51.48026442301,-0.49186481311/to/51.47212537413,-0.48689215164?mode=bus&time=2141&date=20210305&timeIs=departing"
         },
         "latest": {
          "$type": "Tfl.Api.Presentation.Entities.JourneyPlanner.TimeAdjustment, Tfl.Api.Presentation.Entities",
          "date": "20210306",
          "time": "0300",
          "timeIs": "departing",
          "uri": "/journey/journeyresults/51.48026442301,-0.49186481311/to/51.47212537413,-0.48689215164?mode=bus&time=0300&date=20210306&timeIs=departing"
         }
        }
       },
       "stopMessages": []
      },
      "text/plain": [
       "<IPython.core.display.JSON object>"
      ]
     },
     "execution_count": 23,
     "metadata": {
      "application/json": {
       "expanded": false,
       "root": "root"
      }
     },
     "output_type": "execute_result"
    }
   ],
   "source": [
    "JSON(requests.get(url+\"?mode=bus\").json())"
   ]
  },
  {
   "cell_type": "code",
   "execution_count": null,
   "metadata": {},
   "outputs": [],
   "source": []
  }
 ],
 "metadata": {
  "kernelspec": {
   "display_name": "Python 3",
   "language": "python",
   "name": "python3"
  },
  "language_info": {
   "codemirror_mode": {
    "name": "ipython",
    "version": 3
   },
   "file_extension": ".py",
   "mimetype": "text/x-python",
   "name": "python",
   "nbconvert_exporter": "python",
   "pygments_lexer": "ipython3",
   "version": "3.8.5"
  }
 },
 "nbformat": 4,
 "nbformat_minor": 4
}
